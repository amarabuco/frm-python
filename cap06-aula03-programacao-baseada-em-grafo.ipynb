{
 "cells": [
  {
   "cell_type": "markdown",
   "metadata": {},
   "source": [
    "# Capitulo 6 - TensorFlow\n",
    "## Construção de aplicação usando o modelo de programação baseado em grafos do TensorFlow\n",
    "\n",
    "Uma aplicação TensorFlow expressa uma computação numérica como um grafo direcionado, como na figura abaixo onde um grafo representa o cálculo de h = ReLU (Wx + b). Este é uma operação trivial em redes neurais, que realiza uma transformação linear nos dados de entrada (função de ativação linear retificada, neste caso)."
   ]
  },
  {
   "cell_type": "code",
   "execution_count": 1,
   "metadata": {},
   "outputs": [
    {
     "data": {
      "image/png": "[encoded data removed]",
      "text/plain": [
       "<IPython.core.display.Image object>"
      ]
     },
     "execution_count": 1,
     "metadata": {},
     "output_type": "execute_result"
    }
   ],
   "source": [
    "from IPython.display import Image\n",
    "Image('grafo3.png')"
   ]
  },
  {
   "cell_type": "markdown",
   "metadata": {},
   "source": [
    "1. Criação dos tensores"
   ]
  },
  {
   "cell_type": "code",
   "execution_count": 1,
   "metadata": {},
   "outputs": [
    {
     "name": "stdout",
     "output_type": "stream",
     "text": [
      "WARNING:tensorflow:From /root/anaconda3/lib/python3.7/site-packages/tensorflow/python/framework/op_def_library.py:263: colocate_with (from tensorflow.python.framework.ops) is deprecated and will be removed in a future version.\n",
      "Instructions for updating:\n",
      "Colocations handled automatically by placer.\n"
     ]
    },
    {
     "data": {
      "text/plain": [
       "(<tf.Tensor 'a:0' shape=() dtype=int32>,\n",
       " <tf.Tensor 'b:0' shape=() dtype=int32>,\n",
       " <tf.Variable 'y:0' shape=() dtype=int32_ref>)"
      ]
     },
     "execution_count": 1,
     "metadata": {},
     "output_type": "execute_result"
    }
   ],
   "source": [
    "import tensorflow as tf\n",
    "\n",
    "a = tf.constant(10, name = \"a\")\n",
    "b = tf.constant(90, name = \"b\")\n",
    "y = tf.Variable(a + b * 2, name = 'y')\n",
    "a,b,y"
   ]
  },
  {
   "cell_type": "markdown",
   "metadata": {},
   "source": [
    "2. Inicializar as variaveis"
   ]
  },
  {
   "cell_type": "code",
   "execution_count": 2,
   "metadata": {},
   "outputs": [],
   "source": [
    "initVariables = tf.global_variables_initializer()"
   ]
  },
  {
   "cell_type": "markdown",
   "metadata": {},
   "source": [
    "3. Criar uma sessão para executar o grafo"
   ]
  },
  {
   "cell_type": "code",
   "execution_count": 3,
   "metadata": {},
   "outputs": [
    {
     "name": "stdout",
     "output_type": "stream",
     "text": [
      "<tf.Variable 'y:0' shape=() dtype=int32_ref>\n",
      "190\n"
     ]
    }
   ],
   "source": [
    "with tf.Session() as session:\n",
    "    session.run(initVariables)\n",
    "    print(y)\n",
    "    print(session.run(y))"
   ]
  },
  {
   "cell_type": "markdown",
   "metadata": {},
   "source": [
    "4. Gerar grafo no TensorBoard"
   ]
  },
  {
   "cell_type": "code",
   "execution_count": 4,
   "metadata": {},
   "outputs": [],
   "source": [
    "with tf.Session() as session:\n",
    "    merged = tf.summary.merge_all()\n",
    "    writer = tf.summary.FileWriter(\"/tmp/my_graph\", session.graph)"
   ]
  },
  {
   "cell_type": "code",
   "execution_count": 5,
   "metadata": {},
   "outputs": [
    {
     "name": "stdout",
     "output_type": "stream",
     "text": [
      "\u001b[33mW0221 02:40:05.195220 Reloader tf_logging.py:161] Found more than one graph event per run, or there was a metagraph containing a graph_def, as well as one or more graph events.  Overwriting the graph with the newest event.\n",
      "\u001b[0mW0221 02:40:05.195220 140571165345536 tf_logging.py:161] Found more than one graph event per run, or there was a metagraph containing a graph_def, as well as one or more graph events.  Overwriting the graph with the newest event.\n",
      "\u001b[33mW0221 02:40:05.195721 Reloader tf_logging.py:161] Found more than one metagraph event per run. Overwriting the metagraph with the newest event.\n",
      "\u001b[0mW0221 02:40:05.195721 140571165345536 tf_logging.py:161] Found more than one metagraph event per run. Overwriting the metagraph with the newest event.\n",
      "\u001b[33mW0221 02:40:05.208404 Reloader tf_logging.py:161] Found more than one graph event per run, or there was a metagraph containing a graph_def, as well as one or more graph events.  Overwriting the graph with the newest event.\n",
      "\u001b[0mW0221 02:40:05.208404 140571165345536 tf_logging.py:161] Found more than one graph event per run, or there was a metagraph containing a graph_def, as well as one or more graph events.  Overwriting the graph with the newest event.\n",
      "\u001b[33mW0221 02:40:05.211126 Reloader tf_logging.py:161] Found more than one metagraph event per run. Overwriting the metagraph with the newest event.\n",
      "\u001b[0mW0221 02:40:05.211126 140571165345536 tf_logging.py:161] Found more than one metagraph event per run. Overwriting the metagraph with the newest event.\n",
      "\u001b[33mW0221 02:40:05.225789 Reloader tf_logging.py:161] Found more than one graph event per run, or there was a metagraph containing a graph_def, as well as one or more graph events.  Overwriting the graph with the newest event.\n",
      "\u001b[0mW0221 02:40:05.225789 140571165345536 tf_logging.py:161] Found more than one graph event per run, or there was a metagraph containing a graph_def, as well as one or more graph events.  Overwriting the graph with the newest event.\n",
      "\u001b[33mW0221 02:40:05.226820 Reloader tf_logging.py:161] Found more than one metagraph event per run. Overwriting the metagraph with the newest event.\n",
      "\u001b[0mW0221 02:40:05.226820 140571165345536 tf_logging.py:161] Found more than one metagraph event per run. Overwriting the metagraph with the newest event.\n",
      "\u001b[33mW0221 02:40:05.241030 Reloader tf_logging.py:161] Found more than one graph event per run, or there was a metagraph containing a graph_def, as well as one or more graph events.  Overwriting the graph with the newest event.\n",
      "\u001b[0mW0221 02:40:05.241029 140571165345536 tf_logging.py:161] Found more than one graph event per run, or there was a metagraph containing a graph_def, as well as one or more graph events.  Overwriting the graph with the newest event.\n",
      "\u001b[33mW0221 02:40:05.241518 Reloader tf_logging.py:161] Found more than one metagraph event per run. Overwriting the metagraph with the newest event.\n",
      "\u001b[0mW0221 02:40:05.241518 140571165345536 tf_logging.py:161] Found more than one metagraph event per run. Overwriting the metagraph with the newest event.\n",
      "\u001b[33mW0221 02:40:05.246017 Reloader tf_logging.py:161] Found more than one graph event per run, or there was a metagraph containing a graph_def, as well as one or more graph events.  Overwriting the graph with the newest event.\n",
      "\u001b[0mW0221 02:40:05.246017 140571165345536 tf_logging.py:161] Found more than one graph event per run, or there was a metagraph containing a graph_def, as well as one or more graph events.  Overwriting the graph with the newest event.\n",
      "\u001b[33mW0221 02:40:05.246474 Reloader tf_logging.py:161] Found more than one metagraph event per run. Overwriting the metagraph with the newest event.\n",
      "\u001b[0mW0221 02:40:05.246474 140571165345536 tf_logging.py:161] Found more than one metagraph event per run. Overwriting the metagraph with the newest event.\n",
      "\u001b[33mW0221 02:40:05.252473 Reloader tf_logging.py:161] Found more than one graph event per run, or there was a metagraph containing a graph_def, as well as one or more graph events.  Overwriting the graph with the newest event.\n",
      "\u001b[0mW0221 02:40:05.252473 140571165345536 tf_logging.py:161] Found more than one graph event per run, or there was a metagraph containing a graph_def, as well as one or more graph events.  Overwriting the graph with the newest event.\n",
      "\u001b[33mW0221 02:40:05.253302 Reloader tf_logging.py:161] Found more than one metagraph event per run. Overwriting the metagraph with the newest event.\n",
      "\u001b[0mW0221 02:40:05.253302 140571165345536 tf_logging.py:161] Found more than one metagraph event per run. Overwriting the metagraph with the newest event.\n",
      "\u001b[33mW0221 02:40:05.262277 Reloader tf_logging.py:161] Found more than one graph event per run, or there was a metagraph containing a graph_def, as well as one or more graph events.  Overwriting the graph with the newest event.\n",
      "\u001b[0mW0221 02:40:05.262277 140571165345536 tf_logging.py:161] Found more than one graph event per run, or there was a metagraph containing a graph_def, as well as one or more graph events.  Overwriting the graph with the newest event.\n",
      "TensorBoard 1.12.2 at http://e7d1e2a0a1f2:6006 (Press CTRL+C to quit)\n",
      "^C\n"
     ]
    }
   ],
   "source": [
    "!tensorboard --logdir=/tmp/my_graph"
   ]
  }
 ],
 "metadata": {
  "anaconda-cloud": {},
  "kernelspec": {
   "display_name": "Python 3",
   "language": "python",
   "name": "python3"
  },
  "language_info": {
   "codemirror_mode": {
    "name": "ipython",
    "version": 3
   },
   "file_extension": ".py",
   "mimetype": "text/x-python",
   "name": "python",
   "nbconvert_exporter": "python",
   "pygments_lexer": "ipython3",
   "version": "3.7.0"
  }
 },
 "nbformat": 4,
 "nbformat_minor": 1
}
