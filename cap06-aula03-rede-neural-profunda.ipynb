{
 "cells": [
  {
   "cell_type": "markdown",
   "metadata": {},
   "source": [
    "# Capitulo 6 - TensorFlow\n",
    "## Construção de modelo de classificação de imagens com rede neural profunda (Deep Learning)\n",
    "\n",
    "Nesse exemplo construiremos uma rede neural profunda para reconhecimento de dígitos, usando a API de alto nível disponível no tf.keras.  \n",
    "\n",
    "Utilizaremos a base de dados MNIST, que contém 70.000 imagens rotuladas de dígitos escritos à mão, como visto na imagem a seguir:"
   ]
  },
  {
   "cell_type": "markdown",
   "metadata": {},
   "source": [
    "1. Carregamento do conjunto de dados\n",
    "2. Defininição dos atributos preditores e o atributo target \n",
    "3. Divisão dos conjuntos de dados para treino e teste"
   ]
  },
  {
   "cell_type": "code",
   "execution_count": 2,
   "metadata": {},
   "outputs": [
    {
     "name": "stdout",
     "output_type": "stream",
     "text": [
      "Downloading data from https://storage.googleapis.com/tensorflow/tf-keras-datasets/mnist.npz\n",
      "11493376/11490434 [==============================] - 17s 1us/step\n"
     ]
    }
   ],
   "source": [
    "import tensorflow as tf\n",
    "mnist = tf.keras.datasets.mnist\n",
    "(x_train, y_train),(x_test, y_test) = mnist.load_data()"
   ]
  },
  {
   "cell_type": "markdown",
   "metadata": {},
   "source": [
    "4. Pré-processamento dos dados <br/>\n",
    "Conjuntos de dados são normalizados em um intervalo de 0 a 1. Para isso, convertemos o tipo de dado dos pixels da imagem de um inteiro para um float e dividimos por 255 (valor máximo de um pixel)"
   ]
  },
  {
   "cell_type": "code",
   "execution_count": 4,
   "metadata": {},
   "outputs": [
    {
     "name": "stdout",
     "output_type": "stream",
     "text": [
      "<class 'numpy.ndarray'>\n",
      "(60000, 28, 28)\n",
      "(10000, 28, 28)\n"
     ]
    }
   ],
   "source": [
    "x_train, x_test = x_train / 255.0, x_test / 255.0\n",
    "\n",
    "print (type(x_train))\n",
    "print (x_train.shape)\n",
    "print (x_test.shape)"
   ]
  },
  {
   "cell_type": "code",
   "execution_count": 5,
   "metadata": {},
   "outputs": [
    {
     "data": {
      "image/png": "[encoded data removed]",
      "text/plain": [
       "<Figure size 1080x576 with 7 Axes>"
      ]
     },
     "metadata": {
      "needs_background": "light"
     },
     "output_type": "display_data"
    }
   ],
   "source": [
    "import matplotlib.pyplot as plt\n",
    "import numpy as np\n",
    "%matplotlib inline\n",
    "\n",
    "fig=plt.figure(figsize=(1, 8))\n",
    "for i in range(1, 8):\n",
    "    fig.add_subplot(1, 8, i)\n",
    "    fig.set_figwidth(15)\n",
    "    plt.imshow(x_train[i])\n",
    "plt.show()"
   ]
  },
  {
   "cell_type": "markdown",
   "metadata": {},
   "source": [
    "5. Criação da arquitetura da rede\n",
    "Vamos criar a rede usando objeto model.Sequential do tf.keras"
   ]
  },
  {
   "cell_type": "code",
   "execution_count": 6,
   "metadata": {},
   "outputs": [],
   "source": [
    "model = tf.keras.models.Sequential([\n",
    "  tf.keras.layers.Flatten(),\n",
    "  tf.keras.layers.Dense(512, activation=tf.nn.relu),\n",
    "  tf.keras.layers.Dropout(0.2),\n",
    "  tf.keras.layers.Dense(10, activation=tf.nn.softmax)\n",
    "])"
   ]
  },
  {
   "cell_type": "markdown",
   "metadata": {},
   "source": [
    "A primeira camada dessa rede, tf.keras.layers.Flatten, transforma o formato das imagens de uma matriz 2d (de 28 por 28 pixels), para uma matriz 1d de 28 * 28 = 784 pixels. Essa camada não precisa aprender nada, ele funciona simplesmente desempilhando as linhas de pixels na imagem e as alinhando em um vetor.\n",
    "\n",
    "Depois da camada de Flatten temos uma camada tf.keras.layers.Dense. Este  tipo de camada é densamente conectada ou totalmente conectadas. Configuramos essa camada com 512 neurônio e a função de ativação ReLu. \n",
    "\n",
    "A próxima camada da rede, o tf.keras.layers.Dropout, permite configurar aleatoriamente que uma fração de neurônios da rede sejam \"desativados\" a cada época durante o treinamento. Isso ajudar a evitar o overfitting. Configuramos o Dropout com 0.2, ou seja a cada época 20%  dos neurônios são desativados.\n",
    "\n",
    "A última camada é uma camada Densa com função de ativação softmax configurada com 10 neurônios. Dessa forma a saída dessa camada é uma  matriz de 10 \"scores\". Cada score indica a probabilidade da imagem pertencer a uma das 10 classes do conjunto de teste. "
   ]
  },
  {
   "cell_type": "markdown",
   "metadata": {},
   "source": [
    "5. Compilação a rede <br/>\n",
    "Realiza a definição de alguns parametros que serão utilizados no treinamento: \n",
    "\n",
    "    * Função de perda (loss): função que mensura a precisão do modelo durante o treinamento. O treinamento deve minimizar essa função para \"guiar\" o modelo na direção certa.\n",
    " https://www.tensorflow.org/api_docs/python/tf/losses\n",
    " \n",
    "    * Função de otimização (optimizer): função que atualiza os pesos do modelos para otimizar a função de perda (minimizar a perda). https://www.tensorflow.org/api_docs/python/tf/keras/optimizers\n",
    "\n",
    "    * Métricas (metrics): usadas para monitorar as etapas de treinamento e teste.  No exemplo usamos \"accuracy\", o percentual das imagens que são classificadas corretamente.\n",
    "https://www.tensorflow.org/api_docs/python/tf/keras/metrics\n"
   ]
  },
  {
   "cell_type": "code",
   "execution_count": 11,
   "metadata": {},
   "outputs": [
    {
     "name": "stdout",
     "output_type": "stream",
     "text": [
      "_________________________________________________________________\n",
      "Layer (type)                 Output Shape              Param #   \n",
      "=================================================================\n",
      "flatten (Flatten)            multiple                  0         \n",
      "_________________________________________________________________\n",
      "dense (Dense)                multiple                  401920    \n",
      "_________________________________________________________________\n",
      "dropout (Dropout)            multiple                  0         \n",
      "_________________________________________________________________\n",
      "dense_1 (Dense)              multiple                  5130      \n",
      "=================================================================\n",
      "Total params: 407,050\n",
      "Trainable params: 407,050\n",
      "Non-trainable params: 0\n",
      "_________________________________________________________________\n"
     ]
    }
   ],
   "source": [
    "model.compile(optimizer='adam',\n",
    "              loss='sparse_categorical_crossentropy',\n",
    "              metrics=['accuracy'])\n",
    "model.summary()"
   ]
  },
  {
   "cell_type": "markdown",
   "metadata": {},
   "source": [
    "6. Treinamento da rede <br/> Treinar o modelo de rede neural requer os seguintes passos: \n",
    "\n",
    "    1º Configurar o treinamento: trata-se da definição dados de treinamento (matrizes x_train e y_train) e quantidade de épocas (5). Existem outras configurações que podem ser definidas (https://www.tensorflow.org/api_docs/python/tf/keras/models/Sequential)\n",
    "\n",
    "    2º Chamar o método fit passando as configurações do treinamento: esse procedimento inicia o treinamento do modelo que aprende a associar as imagens dos números e seus rótulos.\n",
    "\n",
    "    3º Avaliar o resultado do treinamento: solicitamos ao modelo (model.evaluate()) que faça previsões com os dados de testes (matrizes x_test e y_test). Esse método retorna a taxa perda e \"accuracy\" do modelo usando os dados de teste. Outras métricas que forem definidas na compilação também serão retornadas. "
   ]
  },
  {
   "cell_type": "code",
   "execution_count": 9,
   "metadata": {},
   "outputs": [
    {
     "name": "stdout",
     "output_type": "stream",
     "text": [
      "Epoch 1/5\n",
      "60000/60000 [==============================] - 17s 287us/sample - loss: 0.2223 - acc: 0.9357\n",
      "Epoch 2/5\n",
      "60000/60000 [==============================] - 18s 297us/sample - loss: 0.0973 - acc: 0.9698\n",
      "Epoch 3/5\n",
      "60000/60000 [==============================] - 18s 301us/sample - loss: 0.0685 - acc: 0.9786\n",
      "Epoch 4/5\n",
      "60000/60000 [==============================] - 18s 295us/sample - loss: 0.0541 - acc: 0.9825\n",
      "Epoch 5/5\n",
      "60000/60000 [==============================] - 17s 292us/sample - loss: 0.0435 - acc: 0.9855\n",
      "_________________________________________________________________\n",
      "Layer (type)                 Output Shape              Param #   \n",
      "=================================================================\n",
      "flatten (Flatten)            multiple                  0         \n",
      "_________________________________________________________________\n",
      "dense (Dense)                multiple                  401920    \n",
      "_________________________________________________________________\n",
      "dropout (Dropout)            multiple                  0         \n",
      "_________________________________________________________________\n",
      "dense_1 (Dense)              multiple                  5130      \n",
      "=================================================================\n",
      "Total params: 407,050\n",
      "Trainable params: 407,050\n",
      "Non-trainable params: 0\n",
      "_________________________________________________________________\n",
      "10000/10000 [==============================] - 1s 85us/sample - loss: 0.0772 - acc: 0.9750\n"
     ]
    },
    {
     "data": {
      "text/plain": [
       "[0.07722923343011062, 0.975]"
      ]
     },
     "execution_count": 9,
     "metadata": {},
     "output_type": "execute_result"
    }
   ],
   "source": [
    "model.fit(x_train, y_train, epochs=5)\n",
    "model.evaluate(x_test, y_test)"
   ]
  },
  {
   "cell_type": "markdown",
   "metadata": {},
   "source": [
    "7. Previsões\n",
    "\n",
    "Com o modelo treinado, podemos usá-lo para fazer previsões sobre algumas imagens."
   ]
  },
  {
   "cell_type": "code",
   "execution_count": 10,
   "metadata": {},
   "outputs": [
    {
     "data": {
      "image/png": "[encoded data removed]",
      "text/plain": [
       "<Figure size 1080x360 with 5 Axes>"
      ]
     },
     "metadata": {
      "needs_background": "light"
     },
     "output_type": "display_data"
    }
   ],
   "source": [
    "test_images = x_test[0:5]\n",
    "\n",
    "fig=plt.figure(figsize=(1, test_images.shape[0]))\n",
    "for i in range(1, test_images.shape[0]+1):\n",
    "    fig.add_subplot(1, test_images.shape[0], i)\n",
    "    fig.set_figwidth(15)\n",
    "    plt.imshow(test_images[i-1])\n",
    "plt.show()"
   ]
  },
  {
   "cell_type": "markdown",
   "metadata": {},
   "source": [
    "Uma previsão é uma matriz de 10 números. Estes descrevem a \"confiança\" do modelo que a imagem corresponde a cada um dos 10 digitos. Podemos ver qual rótulo tem o maior valor de confiança:"
   ]
  },
  {
   "cell_type": "code",
   "execution_count": 14,
   "metadata": {},
   "outputs": [
    {
     "name": "stdout",
     "output_type": "stream",
     "text": [
      "[0. 0. 0. 0. 0. 0. 0. 1. 0. 0.]\n",
      "7\n",
      "[0. 0. 1. 0. 0. 0. 0. 0. 0. 0.]\n",
      "2\n",
      "[0. 1. 0. 0. 0. 0. 0. 0. 0. 0.]\n",
      "1\n",
      "[1. 0. 0. 0. 0. 0. 0. 0. 0. 0.]\n",
      "0\n",
      "[0. 0. 0. 0. 1. 0. 0. 0. 0. 0.]\n",
      "4\n"
     ]
    }
   ],
   "source": [
    "predictions = model.predict(test_images)\n",
    "for pred in predictions:\n",
    "    print(np.round(pred))\n",
    "    print(np.argmax(pred))"
   ]
  },
  {
   "cell_type": "code",
   "execution_count": 15,
   "metadata": {},
   "outputs": [
    {
     "data": {
      "image/png": "[encoded data removed]",
      "text/plain": [
       "<Figure size 1080x360 with 5 Axes>"
      ]
     },
     "metadata": {
      "needs_background": "light"
     },
     "output_type": "display_data"
    }
   ],
   "source": [
    "fig=plt.figure(figsize=(1, test_images.shape[0]))\n",
    "for i in range(1, test_images.shape[0]+1):\n",
    "    fig.add_subplot(1, test_images.shape[0], i)\n",
    "    fig.set_figwidth(15)\n",
    "    plt.imshow(test_images[i-1])\n",
    "    plt.xlabel(np.argmax(predictions[i-1]))\n",
    "plt.show()"
   ]
  }
 ],
 "metadata": {
  "anaconda-cloud": {},
  "kernelspec": {
   "display_name": "Python 3",
   "language": "python",
   "name": "python3"
  },
  "language_info": {
   "codemirror_mode": {
    "name": "ipython",
    "version": 3
   },
   "file_extension": ".py",
   "mimetype": "text/x-python",
   "name": "python",
   "nbconvert_exporter": "python",
   "pygments_lexer": "ipython3",
   "version": "3.7.0"
  }
 },
 "nbformat": 4,
 "nbformat_minor": 1
}
