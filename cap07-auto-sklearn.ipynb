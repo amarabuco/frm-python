{
 "cells": [
  {
   "cell_type": "markdown",
   "metadata": {},
   "source": [
    "# Capitulo 5 - Automated Machine Learning\n",
    "## Construção de um modelo Naive Bayes para classificação\n",
    "\n",
    "O Auto-sklearn é uma biblioteca Python para AutoML, que conta com recursos de aprendizado supervisionado de máquina prontos para uso. Construída com base no scikit-learn, o Auto-Sklearn seleciona automaticamente o melhor modelo de aprendizado para um novo conjunto de dado e otimiza os hiperparâmetros desse modelo.\n",
    "\n",
    "O Auto-Sklearn constrói o melhor modelo de classificação, através de uma seleção realizada nos principais algoritmos disponíveis no scikit-learn (ex. SVM, Árvore de decisão, Random Forest, KNN e Regressão Linear)"
   ]
  },
  {
   "cell_type": "markdown",
   "metadata": {},
   "source": [
    "1. Instalação do auto-sklearn e suas dependências:\n",
    "\n",
    "Para Ubuntu é necessário instalar uma biblioteca C++ <br/>\n",
    "<code>apt-get install build-essential swig</code> <br/> <br/>\n",
    "Instalação <br/>\n",
    "<code>curl https://raw.githubusercontent.com/automl/auto-sklearn/master/requirements.txt | xargs -n 1 -L 1 pip install </code><br/>\n",
    "<code>pip install auto-sklearn</code>\n"
   ]
  },
  {
   "cell_type": "markdown",
   "metadata": {},
   "source": [
    "1. Carregamento do conjunto de dados\n",
    "2. Defininição dos atributos preditores e o atributo target\n",
    "3. Divisão dos conjuntos de dados para treino e teste"
   ]
  },
  {
   "cell_type": "code",
   "execution_count": 1,
   "metadata": {},
   "outputs": [],
   "source": [
    "import warnings\n",
    "warnings.filterwarnings(\"ignore\")\n",
    "\n",
    "import sklearn.datasets\n",
    "import sklearn.model_selection\n",
    "X, y = sklearn.datasets.load_digits(return_X_y=True)\n",
    "X_train, X_test, y_train, y_test = sklearn.model_selection.train_test_split(X, y, random_state=1)"
   ]
  },
  {
   "cell_type": "markdown",
   "metadata": {},
   "source": [
    "4. Criação e treinamento do modelo\n",
    "    * Com AutoML não é necessário selecionar modelos é otimizar seus hiperparâmetros. Precisamos apenas informar as entradas e saídas para o algoritmo que realizará esse trabalho por nós. Como o Auto-Sklearn vai avaliar várias combinações de modelos e hiperparâmetros, <b>o treinamento pode demorar bastante.</b> "
   ]
  },
  {
   "cell_type": "code",
   "execution_count": 2,
   "metadata": {},
   "outputs": [
    {
     "name": "stdout",
     "output_type": "stream",
     "text": [
      "inicio: 2019-02-21 22:53:38.926675\n",
      "[WARNING] [2019-02-21 22:53:40,073:EnsembleBuilder(1):d74860caaa557f473ce23908ff7ba369] No models better than random - using Dummy Score!\n",
      "[WARNING] [2019-02-21 22:53:40,082:EnsembleBuilder(1):d74860caaa557f473ce23908ff7ba369] No models better than random - using Dummy Score!\n",
      "[WARNING] [2019-02-21 23:02:58,656:smac.intensification.intensification.Intensifier] Challenger was the same as the current incumbent; Skipping challenger\n",
      "[WARNING] [2019-02-21 23:02:58,656:smac.intensification.intensification.Intensifier] Challenger was the same as the current incumbent; Skipping challenger\n",
      "[WARNING] [2019-02-21 23:03:21,559:smac.intensification.intensification.Intensifier] Challenger was the same as the current incumbent; Skipping challenger\n",
      "[WARNING] [2019-02-21 23:03:21,559:smac.intensification.intensification.Intensifier] Challenger was the same as the current incumbent; Skipping challenger\n",
      "[WARNING] [2019-02-21 23:03:33,360:smac.intensification.intensification.Intensifier] Challenger was the same as the current incumbent; Skipping challenger\n",
      "[WARNING] [2019-02-21 23:03:33,360:smac.intensification.intensification.Intensifier] Challenger was the same as the current incumbent; Skipping challenger\n",
      "fim: 2019-02-21 22:53:38.926675\n"
     ]
    }
   ],
   "source": [
    "import datetime\n",
    "print(\"inicio: \"+str(datetime.datetime.now()))\n",
    "\n",
    "import autosklearn.classification \n",
    "automl = autosklearn.classification.AutoSklearnClassifier()\n",
    "automl.fit(X_train, y_train)\n",
    "\n",
    "print(\"fim: \"+str(datetime.datetime.now()))"
   ]
  },
  {
   "cell_type": "markdown",
   "metadata": {},
   "source": [
    "5. Testar o modelo"
   ]
  },
  {
   "cell_type": "code",
   "execution_count": 3,
   "metadata": {},
   "outputs": [
    {
     "name": "stdout",
     "output_type": "stream",
     "text": [
      "Acuracia 0.9911111111111112\n"
     ]
    }
   ],
   "source": [
    "previsoes = automl.predict(X_test)\n",
    "print(\"Acuracia\", sklearn.metrics.accuracy_score(y_test, previsoes))"
   ]
  },
  {
   "cell_type": "markdown",
   "metadata": {},
   "source": [
    "6. Analisar o modelo gerado pelo Auto-Sklearn \n",
    "   * Com o metodo sprint_statistics é possível imprimir um resumo estatístico do treinamento"
   ]
  },
  {
   "cell_type": "code",
   "execution_count": 19,
   "metadata": {},
   "outputs": [
    {
     "name": "stdout",
     "output_type": "stream",
     "text": [
      "auto-sklearn results:\n",
      "  Dataset name: d74860caaa557f473ce23908ff7ba369\n",
      "  Metric: accuracy\n",
      "  Best validation score: 0.991011\n",
      "  Number of target algorithm runs: 375\n",
      "  Number of successful target algorithm runs: 365\n",
      "  Number of crashed target algorithm runs: 4\n",
      "  Number of target algorithms that exceeded the time limit: 4\n",
      "  Number of target algorithms that exceeded the memory limit: 2\n",
      "\n"
     ]
    }
   ],
   "source": [
    "print(automl.sprint_statistics())"
   ]
  }
 ],
 "metadata": {
  "kernelspec": {
   "display_name": "Python 3",
   "language": "python",
   "name": "python3"
  },
  "language_info": {
   "codemirror_mode": {
    "name": "ipython",
    "version": 3
   },
   "file_extension": ".py",
   "mimetype": "text/x-python",
   "name": "python",
   "nbconvert_exporter": "python",
   "pygments_lexer": "ipython3",
   "version": "3.7.0"
  }
 },
 "nbformat": 4,
 "nbformat_minor": 2
}
