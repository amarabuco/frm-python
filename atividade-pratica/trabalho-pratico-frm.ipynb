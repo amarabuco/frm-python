{
 "cells": [
  {
   "cell_type": "markdown",
   "metadata": {
    "collapsed": true
   },
   "source": [
    "# Trabalho Prático - FRM\n",
    "\n",
    "Você já conhece o fluxo de trabalho para construção de aplicações de aprendizado de máquina. Esse fluxo deve se estabelecer como um elemento norteador de projetos de soluções que aplicam aprendizado de Máquina. Cincos fases compõe o fluxo:\n",
    "\n",
    "1. Identificação do problema de negócio,\n",
    "2. Análise exploratória e preparação dos dados,\n",
    "3. Criação dos modelos, treinamento e otimização,\n",
    "4. Implantação dos modelos, previsões on-line e monitoramento e\n",
    "5. Gestão dos modelos.\n",
    "\n",
    "Você também já conhece algumas das principais bibliotecas Python usadas na construção de aplicações de aprendizado de máquina: numpy, pandas, scikit-learn (sklearn), matplotlib e tensorflow:\n",
    "\n",
    "Nesse trabalho prático você deve usar os conhecimentos adquiridos para codificar scripts que realizem atividades de cada fase do fluxo de trabalho. O objetivo final do script é construir um modelo de classificação utilizando o dataset disponível na competição do Kaggle: [\"Titanic: Machine Learning from Disaster”](https://www.kaggle.com/c/titanic/data). Esse modelo de classificação deverá ser capaz de prever quais passageiros sobreviveram à tragédia.\n",
    "\n",
    "Nessa competição são disponibilizados um conjunto de dados de treinamento e um conjunto de dados de teste. A diferença entre os dois conjuntos é a existência de um atributo \"Survived\" no conjunto de treinamento. Esse atributo será o atributo alvo. Depois que o modelo for treinado o conjunto de teste deve ser submetido ao modelo para que ele faça previsões.  \n",
    "\n",
    "Vamos começar: "
   ]
  },
  {
   "cell_type": "markdown",
   "metadata": {},
   "source": [
    "### Fase 1 - Identificação do problema de negócio\n",
    "\n",
    "Nessa fase é necessário realizar entre outras atividades, a <b>obtenção dos dados identificados como relevantes</b>. Para o nosso problema de negócio, esses dados são os conjuntos de treino e teste da competição “Titanic: Machine Learning from Disaster”.  \n",
    "\n",
    "Conjunto de treino: https://www.kaggle.com/c/titanic/download/train.csv <br/>\n",
    "Conjunto de teste: https://www.kaggle.com/c/titanic/download/test.csv\n",
    "\n",
    "Você vai precisar se autenticar no kaggle antes de realizar essa atividade\n",
    "\n",
    "Crie na próxima célula um script para realizar essa atividade utilizando a biblioteca pandas. Imprima a quantidade de atributos e objetos de cada conjunto"
   ]
  },
  {
   "cell_type": "code",
   "execution_count": 1,
   "metadata": {
    "collapsed": false
   },
   "outputs": [],
   "source": [
    "#importação dos dados"
   ]
  },
  {
   "cell_type": "markdown",
   "metadata": {},
   "source": [
    "### Fase 2 - Análise exploratória e preparação dos dados\n",
    "\n",
    "Nessa fase é necessário realizar entre outras atividades a <b>análise exploratória de dados</b>, o que inclui análise estatística descritiva. Nas células a seguir utilize a biblioteca pandas para apresentar essa análise do conjunto de dados de treinamento e exibir os 10 primeiros objetos desse conjunto. "
   ]
  },
  {
   "cell_type": "code",
   "execution_count": 2,
   "metadata": {
    "collapsed": false
   },
   "outputs": [],
   "source": [
    "#análise estatistica descritiva"
   ]
  },
  {
   "cell_type": "code",
   "execution_count": 4,
   "metadata": {
    "collapsed": false
   },
   "outputs": [],
   "source": [
    "#imprimir os 10 primeiros registros"
   ]
  },
  {
   "cell_type": "markdown",
   "metadata": {},
   "source": [
    "Ainda durante a fase 2 é necessário <b>remover algum(s) atributo(s) irrelevante(s) para classificação</b>. Faça isso nos conjuntos de treinamento e teste na próxima célula.\n",
    "\n",
    "Lembre-se de remover o atributo \"target\" do conjunto de treinamento, mas não se esqueça de armazenar esse atributo em uma variável y para utilizá-lo na fase seguinte "
   ]
  },
  {
   "cell_type": "code",
   "execution_count": 5,
   "metadata": {
    "collapsed": false
   },
   "outputs": [],
   "source": [
    "#remoção de atributos"
   ]
  },
  {
   "cell_type": "markdown",
   "metadata": {},
   "source": [
    "### Fase 3 - Criação de modelos preditivos, treinamento e otimização\n",
    "\n",
    "O objetivo dessa fase é <b>construir um modelo preditivo</b> (que faz previsões ou classificações) para obter o melhor desempenho possível. Para construir o melhor modelo você deve experimentar vários algoritmos (Regressão Logística, Naive Bayes, Árvore de Decisão, Redes Neurais, Redes Neurais profundas, etc) e selecionar o algoritmo que forneça o melhor modelo.\n",
    "\n",
    "Para experimentar alguns certos algoritmos, você precisará realizar outra atividade da fase 2: <b>“Transformar dados válidos e limpos no formato mais adequado às necessidades do algoritmo”</b>. Por exemplo, para utilizar o Naive Bayes você precisará codificar os atributos nominais em atributos numéricos. \n",
    "\n",
    "Nas próximas duas células você deve construir e treinar dois modelos preditivos utilizando necessariamente as bibliotecas scikit-learn e o tensorflow. Pode ser necessário transformar os dados (codificação, discretização, etc). Depois de concluir o treinamento, você deve imprimir a acurácia dois modelos. "
   ]
  },
  {
   "cell_type": "code",
   "execution_count": 6,
   "metadata": {
    "collapsed": false
   },
   "outputs": [],
   "source": [
    "#modelo construido com o scikit-learn"
   ]
  },
  {
   "cell_type": "code",
   "execution_count": 7,
   "metadata": {
    "collapsed": false
   },
   "outputs": [],
   "source": [
    "#modelo construido com o tensorflow"
   ]
  },
  {
   "cell_type": "markdown",
   "metadata": {
    "collapsed": true
   },
   "source": [
    "<b>Qual modelo teve a maior acurácia?</b> Vamos analisar esse modelo utilizando uma matriz de confusão e o relatório de precisão, sensibilidade (recall) e f-1 (f-measure). Na célula seguinte utilize o pacote sklearn.metrics para imprimir essa duas informações, utilizando o conjunto de treinamento:"
   ]
  },
  {
   "cell_type": "code",
   "execution_count": 8,
   "metadata": {
    "collapsed": false
   },
   "outputs": [],
   "source": [
    "#imprimir matriz de confusão e o relatório de precisão, sensibilidade (recall) e f-1 "
   ]
  },
  {
   "cell_type": "markdown",
   "metadata": {},
   "source": [
    "### Fase 4: Implantação de modelo, previsões on-lines e monitoramento\n",
    "\n",
    "São objetivos dessa fase implantar os modelos construídos na fase anterior e utilizá-lo para fazer previsões. \n",
    "\n",
    "Uma vez que seu modelo alcançou uma performance excelente, finalmente você pode utilizá-lo para  prever quais passageiros sobreviveram à tragédia do Titanic. Então faça isso na célula abaixo.\n",
    "\n",
    "<b>Não se esqueça que as previsões devem ser realizadas com o conjunto de dados de teste.</b>"
   ]
  },
  {
   "cell_type": "code",
   "execution_count": 9,
   "metadata": {
    "collapsed": false
   },
   "outputs": [],
   "source": [
    "#realizar previsões com o melhor modelo"
   ]
  },
  {
   "cell_type": "markdown",
   "metadata": {},
   "source": [
    "### Fase 5: Gestão dos modelos\n",
    "\n",
    "São objetivos dessa fase monitorar e registrar a qualidade das previsões realizadas pelo modelo. \n",
    "\n",
    "Seu modelo já fez previsões para objetos “desconhecidos” na fase 4, mas ainda não sabemos a qualidade dessas previsões. Devemos descobrir essa informação para avaliarmos se é necessário voltar em alguma fase do fluxo de trabalho e realizar algum outro procedimento (limpar atributos, experimentar outros modelos, otimizar os modelos já experimentados).\n",
    "\n",
    "Para descobrir a qualidade do seu modelo, você precisará submeter as previsões já realizada na competição [Titanic: Machine Learning from Disaster](https://www.kaggle.com/c/titanic/submit) do Kaggle. As previsões do modelo precisam ser salvas em um arquivo csv com os atributos passengerId e Survived ([Veja o exemplo](previsoes-exemplo.csv)) e depois você precisa enviar o arquivo e fazer a submissão. \n",
    "\n",
    "<b>Depois de fazer a submissão, faça uma captura da tela para anexar no relatorio da atividade prática ([Exemplo](exemplo-submissao.png))</b>\n",
    "\n",
    "Na célula a seguir você deve criar o arquivo \"previsoes.csv\" com as previsões realizadas pelo seu modelo utilizando a biblioteca numpy. \n",
    "\n",
    "<b>Dica: use os as funções [np.column_stack](https://docs.scipy.org/doc/numpy/reference/generated/numpy.column_stack.html) e [np.savetxt](https://docs.scipy.org/doc/numpy/reference/generated/numpy.savetxt.html)</b>"
   ]
  },
  {
   "cell_type": "code",
   "execution_count": 10,
   "metadata": {
    "collapsed": false
   },
   "outputs": [],
   "source": [
    "#salvar arquivo previsoes.csv"
   ]
  }
 ],
 "metadata": {
  "anaconda-cloud": {},
  "kernelspec": {
   "display_name": "Python [default]",
   "language": "python",
   "name": "python3"
  },
  "language_info": {
   "codemirror_mode": {
    "name": "ipython",
    "version": 3
   },
   "file_extension": ".py",
   "mimetype": "text/x-python",
   "name": "python",
   "nbconvert_exporter": "python",
   "pygments_lexer": "ipython3",
   "version": "3.5.2"
  }
 },
 "nbformat": 4,
 "nbformat_minor": 1
}
