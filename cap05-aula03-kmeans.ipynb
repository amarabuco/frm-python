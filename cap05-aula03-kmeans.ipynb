{
 "cells": [
  {
   "cell_type": "markdown",
   "metadata": {},
   "source": [
    "# Capitulo 5 - Scikit-learn\n",
    "## Construção de um modelo de aprendizado não supervisionado (clustering) "
   ]
  },
  {
   "cell_type": "markdown",
   "metadata": {},
   "source": [
    "Em tarefas de aprendizagem não supervisionada como o agrupamento, os dados não possuem um label e cabe ao algoritmo descrobrir automaticamente como os dados se agrupam. No K-means, um dos algoritmos mais tradicionais para agrupamento, isso é feito pelas medidas de distância dos pontos de dados para os centróides. \n",
    "\n",
    "Não há uma classificação final e cabe ao analista definir o que cada cluster representa, a partir da observação do \"perfil\" de cada cluster. A seguir mostramos um exemplo de código com a implementação do K-Means usando o Sckit-learn  <br/>\n",
    "http://scikit-learn.org/stable/modules/generated/sklearn.cluster.KMeans.html\n",
    "\n",
    "Para construir esse modelo vamos utilizar a base de dados \"Consumo de energia elétrica residencial individual\" (Individual household electric power consumption Data Set) <br/>\n",
    "https://archive.ics.uci.edu/ml/datasets/individual+household+electric+power+consumption"
   ]
  },
  {
   "cell_type": "markdown",
   "metadata": {},
   "source": [
    "1. Carregamento do conjunto de dados"
   ]
  },
  {
   "cell_type": "code",
   "execution_count": 2,
   "metadata": {},
   "outputs": [
    {
     "data": {
      "text/html": [
       "<div>\n",
       "<style scoped>\n",
       "    .dataframe tbody tr th:only-of-type {\n",
       "        vertical-align: middle;\n",
       "    }\n",
       "\n",
       "    .dataframe tbody tr th {\n",
       "        vertical-align: top;\n",
       "    }\n",
       "\n",
       "    .dataframe thead th {\n",
       "        text-align: right;\n",
       "    }\n",
       "</style>\n",
       "<table border=\"1\" class=\"dataframe\">\n",
       "  <thead>\n",
       "    <tr style=\"text-align: right;\">\n",
       "      <th></th>\n",
       "      <th>Date</th>\n",
       "      <th>Time</th>\n",
       "      <th>Global_active_power</th>\n",
       "      <th>Global_reactive_power</th>\n",
       "      <th>Voltage</th>\n",
       "      <th>Global_intensity</th>\n",
       "      <th>Sub_metering_1</th>\n",
       "      <th>Sub_metering_2</th>\n",
       "      <th>Sub_metering_3</th>\n",
       "    </tr>\n",
       "  </thead>\n",
       "  <tbody>\n",
       "    <tr>\n",
       "      <th>0</th>\n",
       "      <td>16/12/2006</td>\n",
       "      <td>17:24:00</td>\n",
       "      <td>4.216</td>\n",
       "      <td>0.418</td>\n",
       "      <td>234.840</td>\n",
       "      <td>18.400</td>\n",
       "      <td>0.000</td>\n",
       "      <td>1.000</td>\n",
       "      <td>17.0</td>\n",
       "    </tr>\n",
       "    <tr>\n",
       "      <th>1</th>\n",
       "      <td>16/12/2006</td>\n",
       "      <td>17:25:00</td>\n",
       "      <td>5.360</td>\n",
       "      <td>0.436</td>\n",
       "      <td>233.630</td>\n",
       "      <td>23.000</td>\n",
       "      <td>0.000</td>\n",
       "      <td>1.000</td>\n",
       "      <td>16.0</td>\n",
       "    </tr>\n",
       "    <tr>\n",
       "      <th>2</th>\n",
       "      <td>16/12/2006</td>\n",
       "      <td>17:26:00</td>\n",
       "      <td>5.374</td>\n",
       "      <td>0.498</td>\n",
       "      <td>233.290</td>\n",
       "      <td>23.000</td>\n",
       "      <td>0.000</td>\n",
       "      <td>2.000</td>\n",
       "      <td>17.0</td>\n",
       "    </tr>\n",
       "    <tr>\n",
       "      <th>3</th>\n",
       "      <td>16/12/2006</td>\n",
       "      <td>17:27:00</td>\n",
       "      <td>5.388</td>\n",
       "      <td>0.502</td>\n",
       "      <td>233.740</td>\n",
       "      <td>23.000</td>\n",
       "      <td>0.000</td>\n",
       "      <td>1.000</td>\n",
       "      <td>17.0</td>\n",
       "    </tr>\n",
       "    <tr>\n",
       "      <th>4</th>\n",
       "      <td>16/12/2006</td>\n",
       "      <td>17:28:00</td>\n",
       "      <td>3.666</td>\n",
       "      <td>0.528</td>\n",
       "      <td>235.680</td>\n",
       "      <td>15.800</td>\n",
       "      <td>0.000</td>\n",
       "      <td>1.000</td>\n",
       "      <td>17.0</td>\n",
       "    </tr>\n",
       "  </tbody>\n",
       "</table>\n",
       "</div>"
      ],
      "text/plain": [
       "         Date      Time Global_active_power Global_reactive_power  Voltage  \\\n",
       "0  16/12/2006  17:24:00               4.216                 0.418  234.840   \n",
       "1  16/12/2006  17:25:00               5.360                 0.436  233.630   \n",
       "2  16/12/2006  17:26:00               5.374                 0.498  233.290   \n",
       "3  16/12/2006  17:27:00               5.388                 0.502  233.740   \n",
       "4  16/12/2006  17:28:00               3.666                 0.528  235.680   \n",
       "\n",
       "  Global_intensity Sub_metering_1 Sub_metering_2  Sub_metering_3  \n",
       "0           18.400          0.000          1.000            17.0  \n",
       "1           23.000          0.000          1.000            16.0  \n",
       "2           23.000          0.000          2.000            17.0  \n",
       "3           23.000          0.000          1.000            17.0  \n",
       "4           15.800          0.000          1.000            17.0  "
      ]
     },
     "execution_count": 2,
     "metadata": {},
     "output_type": "execute_result"
    }
   ],
   "source": [
    "import pandas as pd\n",
    "data = pd.read_csv('household_power_consumption.txt', delimiter = ';', low_memory = False)\n",
    "data.head()"
   ]
  },
  {
   "cell_type": "markdown",
   "metadata": {},
   "source": [
    "2. Pré-processamento dos dados: <br/>\n",
    "    * Seleção dos atributos que serão utilizadas para construir o modelo\n",
    "    * Remoção dos registros com valores nulos\n",
    "    * Reamostragem do conjunto de dados\n",
    "    * Redução de dimensionalidade utilizando a técnica PCA\n",
    "         * Transforma todos os atributos preditivos do conjunto de dados em componentes principais que “conservam a maior parte da informação” do conjunto de dados original. \n"
   ]
  },
  {
   "cell_type": "code",
   "execution_count": 5,
   "metadata": {},
   "outputs": [],
   "source": [
    "power_consumption = data.iloc[0:, 2:9].dropna()\n",
    "power_consumption.shape\n",
    "\n",
    "from sklearn.utils import resample\n",
    "data = resample(power_consumption, n_samples=5000)\n",
    "\n",
    "from sklearn.decomposition import PCA\n",
    "pca_2d = PCA(n_components = 2).fit_transform(data)"
   ]
  },
  {
   "cell_type": "markdown",
   "metadata": {},
   "source": [
    "3. Criação e treinamento do modelo\n",
    "\n",
    "O algoritmo K-Means agrupa dados tentando separar amostras em k grupos similares. Esse algoritmo requer que o número de grupos (parametro k) seja especificado. \n",
    "\n",
    "K-Means se adapta bem a um grande número de amostras e foi usado em uma grande variedade de áreas de aplicação em muitos campos diferentes."
   ]
  },
  {
   "cell_type": "code",
   "execution_count": 10,
   "metadata": {},
   "outputs": [
    {
     "data": {
      "text/plain": [
       "KMeans(algorithm='auto', copy_x=True, init='k-means++', max_iter=300,\n",
       "    n_clusters=4, n_init=10, n_jobs=1, precompute_distances='auto',\n",
       "    random_state=None, tol=0.0001, verbose=0)"
      ]
     },
     "execution_count": 10,
     "metadata": {},
     "output_type": "execute_result"
    }
   ],
   "source": [
    "from sklearn.cluster import KMeans\n",
    "k_means = KMeans(n_clusters=4)\n",
    "k_means.fit(pca_2d)"
   ]
  },
  {
   "cell_type": "markdown",
   "metadata": {},
   "source": [
    "4. Avaliação do modelo <br/>\n",
    "    Para avaliarmos o resultado do agrupamento, podemos construir gráfico utilizando o Matplolib. "
   ]
  },
  {
   "cell_type": "code",
   "execution_count": 11,
   "metadata": {},
   "outputs": [
    {
     "data": {
      "image/png": "[encoded data removed]",
      "text/plain": [
       "<Figure size 432x288 with 1 Axes>"
      ]
     },
     "metadata": {
      "needs_background": "light"
     },
     "output_type": "display_data"
    }
   ],
   "source": [
    "import matplotlib.pyplot as plt\n",
    "\n",
    "for i in range(0, pca_2d.shape[0]):\n",
    "    if k_means.labels_[i] == 1:\n",
    "        c1 = plt.scatter(pca_2d[i,0],pca_2d[i,1],c='r', marker='+')\n",
    "    elif k_means.labels_[i] == 0:\n",
    "        c2 = plt.scatter(pca_2d[i,0],pca_2d[i,1],c='g', marker='o')\n",
    "    elif k_means.labels_[i] == 2:\n",
    "        c3 = plt.scatter(pca_2d[i,0],pca_2d[i,1],c='b', marker='*')\n",
    "    elif k_means.labels_[i] == 3:\n",
    "        c4 = plt.scatter(pca_2d[i,0],pca_2d[i,1],c='y', marker='*')\n",
    "        plt.legend([c1, c2, c3, c4],['Cluster 0', 'Cluster 1', 'Cluster 2', 'Cluster 3'])\n",
    "        plt.title('Clusters K-means com 4 clusters')\n",
    "plt.show()"
   ]
  },
  {
   "cell_type": "markdown",
   "metadata": {},
   "source": [
    "Outra forma de avaliar o resultado do agrupamento realizado pelo modelo é calcular o Silhouette Score (Coeficiente de Silhueta ).\n",
    "\n",
    "O Coeficiente de Silhueta é calculado usando a distância intra-cluster média (a) e a distância média do cluster mais próximo (b) para cada amostra. A função silhouette_score retorna o score da silhueta médio em todas as amostras\n",
    "\n",
    "O melhor score é 1 e o pior score é -1. Valores próximos a 0 indicam clusters sobrepostos. Valores negativos geralmente indicam que uma amostra foi atribuída ao cluster errado, pois um cluster diferente é mais semelhante.\n",
    "\n",
    "https://scikit-learn.org/stable/modules/generated/sklearn.metrics.silhouette_score.html"
   ]
  },
  {
   "cell_type": "code",
   "execution_count": 14,
   "metadata": {},
   "outputs": [
    {
     "data": {
      "text/plain": [
       "0.8641746257469256"
      ]
     },
     "execution_count": 14,
     "metadata": {},
     "output_type": "execute_result"
    }
   ],
   "source": [
    "from sklearn.metrics import silhouette_score\n",
    "labels = k_means.labels_\n",
    "silhouette_score(pca_2d, labels, metric = 'euclidean')"
   ]
  }
 ],
 "metadata": {
  "anaconda-cloud": {},
  "kernelspec": {
   "display_name": "Python 3",
   "language": "python",
   "name": "python3"
  },
  "language_info": {
   "codemirror_mode": {
    "name": "ipython",
    "version": 3
   },
   "file_extension": ".py",
   "mimetype": "text/x-python",
   "name": "python",
   "nbconvert_exporter": "python",
   "pygments_lexer": "ipython3",
   "version": "3.7.0"
  }
 },
 "nbformat": 4,
 "nbformat_minor": 1
}
